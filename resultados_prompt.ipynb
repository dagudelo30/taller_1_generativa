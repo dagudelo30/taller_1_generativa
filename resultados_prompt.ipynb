{
 "cells": [
  {
   "cell_type": "code",
   "execution_count": 1,
   "id": "193626c0",
   "metadata": {},
   "outputs": [
    {
     "name": "stdout",
     "output_type": "stream",
     "text": [
      "Modelos disponibles: 326\n",
      "- thedrummer/cydonia-24b-v4.1\n",
      "- relace/relace-apply-3\n",
      "- google/gemini-2.5-flash-preview-09-2025\n",
      "- google/gemini-2.5-flash-lite-preview-09-2025\n",
      "- qwen/qwen3-vl-235b-a22b-thinking\n",
      "- qwen/qwen3-vl-235b-a22b-instruct\n",
      "- qwen/qwen3-max\n",
      "- qwen/qwen3-coder-plus\n",
      "- openai/gpt-5-codex\n",
      "- deepseek/deepseek-v3.1-terminus\n"
     ]
    }
   ],
   "source": [
    "import os\n",
    "from openai import OpenAI\n",
    "import tomllib  # estándar en Python 3.11+\n",
    "from pathlib import Path\n",
    "from datetime import date\n",
    "\n",
    "#  Credenciales OpenRouter.ai (OpenAI compatible)\n",
    "client = OpenAI(\n",
    "    base_url=\"https://openrouter.ai/api/v1\",\n",
    "    api_key=\"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\",\n",
    "    default_headers={               # opcional, recomendado\n",
    "        \"HTTP-Referer\": \"http://localhost\",\n",
    "        \"X-Title\": \"IA_generativa Notebooks\",\n",
    "    },\n",
    ")\n",
    "\n",
    "# listar algunos modelos disponibles\n",
    "models = client.models.list()\n",
    "print(\"Modelos disponibles:\", len(models.data))\n",
    "for m in models.data[:10]:\n",
    "    print(\"-\", m.id)"
   ]
  },
  {
   "cell_type": "markdown",
   "id": "96908b5e",
   "metadata": {},
   "source": [
    "## Carga y procesamiento de la base de datos"
   ]
  },
  {
   "cell_type": "code",
   "execution_count": 2,
   "id": "20449cc7",
   "metadata": {},
   "outputs": [
    {
     "name": "stdout",
     "output_type": "stream",
     "text": [
      "['# DOCUMENTO_DE_PEDIDOS — EcoMarket', \"# - <tracking>: status='<status>', eta='<YYYY-MM-DD>', carrier='<carrier>', url='<url>',\", \"#   delayed=<true|false>, order_id='<id>', cliente='<nombre>', ciudad='<ciudad>', producto='<producto>'\", '', \"- 20001: status='Procesando', eta='2025-10-02', carrier='DHL', url='https://tracking.ecomarket.example/dhl/20001', delayed=false, order_id='ECO-2509-001', cliente='Ana Pérez', ciudad='Bogotá', producto='Botella reutilizable de acero'\", \"- 20002: status='En preparación', eta='2025-10-03', carrier='UPS', url='https://tracking.ecomarket.example/ups/20002', delayed=false, order_id='ECO-2509-002', cliente='Luis Gómez', ciudad='Medellín', producto='Cepillo dental de bambú'\"]\n"
     ]
    }
   ],
   "source": [
    "project_root = Path.cwd()\n",
    "data = project_root / \"ecomarket_base_datos.toml\"\n",
    "\n",
    "data_path = Path(data)\n",
    "with data_path.open(\"rb\") as data_file:\n",
    "    documento = tomllib.load(data_file)\n",
    "    \n",
    "\n",
    "def _to_date_str(v):\n",
    "  \n",
    "    if hasattr(v, \"isoformat\"):\n",
    "        return v.isoformat()\n",
    "    return str(v)\n",
    "\n",
    "def build_orders_document(orders_list):\n",
    "    \"\"\"\n",
    "    Convierte la lista de pedidos en el bloque de texto esperado por tu prompt.\n",
    "    \"\"\"\n",
    "    lines = [\n",
    "        \"# DOCUMENTO_DE_PEDIDOS — EcoMarket\",\n",
    "        \"# - <tracking>: status='<status>', eta='<YYYY-MM-DD>', carrier='<carrier>', url='<url>',\",\n",
    "        \"#   delayed=<true|false>, order_id='<id>', cliente='<nombre>', ciudad='<ciudad>', producto='<producto>'\",\n",
    "        \"\",\n",
    "    ]\n",
    "    for o in orders_list:\n",
    "        lines.append(\n",
    "            f\"- {o['tracking_number']}: status='{o['status']}', eta='{_to_date_str(o['eta'])}', \"\n",
    "            f\"carrier='{o['carrier']}', url='{o['track_url']}', delayed={str(o['delayed']).lower()}, \"\n",
    "            f\"order_id='{o['order_id']}', cliente='{o['customer_name']}', ciudad='{o['city']}', \"\n",
    "            f\"producto='{o['product']}'\"\n",
    "        )\n",
    "    return \"\\n\".join(lines)\n",
    "\n",
    "orders = documento[\"orders\"]               \n",
    "documento_txt = build_orders_document(orders)  \n",
    "print(documento_txt.splitlines()[:6])\n"
   ]
  },
  {
   "cell_type": "markdown",
   "id": "775154d5",
   "metadata": {},
   "source": [
    "## Cargar Settings"
   ]
  },
  {
   "cell_type": "code",
   "execution_count": 3,
   "id": "1f9f07b2",
   "metadata": {},
   "outputs": [
    {
     "name": "stdout",
     "output_type": "stream",
     "text": [
      "{'general': {'model': 'meta-llama/llama-3.3-70b-instruct:free', 'temperature': 0.2}, 'prompts': {'role_prompt': 'Eres un agente de servicio al cliente de EcoMarket: amable, empático y conciso.\\nReglas generales:\\n- Detecta la intención del usuario: {seguimiento_de_pedido | devolucion_de_producto}.\\n- Usa EXCLUSIVAMENTE las fuentes provistas:\\n  • DOCUMENTO_DE_PEDIDOS para estados/ETAs/links/carrier.\\n  • POLITICA_DEVOLUCIONES para elegibilidad y proceso de devoluciones.\\n- Si falta información (número de seguimiento/pedido, fecha de entrega, motivo), pídela amablemente.\\n- No inventes datos; responde en español claro, 3–6 líneas.\\n', 'instruction_prompt': 'DOCUMENTO_DE_PEDIDOS:\\n>>>>>DOC_PEDIDOS<<<<<\\n\\nPOLITICA_DEVOLUCIONES:\\n>>>>>DOC_POLITICA<<<<<\\n\\nMENSAJE_DEL_USUARIO:\\n>>> {{user_utterance}} <<<\\n\\nTarea:\\n1) Identifica intención:\\n   - Seguimiento: localiza el tracking en el mensaje; si existe en el documento, devuelve estado, ETA, link y carrier. Si delayed=true, disculpa breve + causa si está en notas y brinda un descuento del 10% en la proxima compra.\\n   - Devolución: determina elegibilidad según la política; si procede, pasos (etiqueta, empaque, punto de entrega, tiempos de reembolso). Si no procede, explica con empatía y ofrece alternativa.En el caso de daño en transporte, pide fotos para validar el daño.\\n2) Si falta información clave, solicítala con amabilidad.\\nFormato: respuesta breve (3–6 líneas), tono empático.\\n', 'track_negative_example': 'Usuario: Hola, buenos días 👋 ¿me ayudas con mi pedido?\\n(Documento de pedidos disponible arriba)\\n', 'track_negative_reasoning': 'No hay número de seguimiento. Debe saludar y pedir el número con amabilidad.', 'track_negative_output': '¡Hola! 👋 Con gusto te ayudo. ¿Me compartes el número de seguimiento? Si no lo tienes a mano, está en el correo de confirmación.', 'track_positive_example': \"Usuario: Tengo los números 12345 y 20004; creo que es el segundo. ¿Me confirmas el estado?\\nDocumento (extracto):\\n- 20004: status='Retrasado', eta='2025-10-01', carrier='DHL', url='https://tracking.ecomarket.example/dhl/20004', delayed=true, notas='Demora del transportista por alta demanda.'\\n\", 'track_positive_reasoning': 'El documento contiene 20004; debe responder con estado, ETA, link, carrier y disculpa con causa si aplica.', 'track_positive_output': 'Gracias por escribirnos. El pedido 20004 está “Retrasado”. Fecha estimada de entrega: 2025-10-01,transportadora=DHL. Rastreo: https://tracking.ecomarket.example/dhl/20004. Lamentamos la demora; el transportista reporta alta demanda, para tu proxima compra tienes un 10% de descuento. ¿Puedo ayudarte con algo más?', 'return_positive_example': 'Usuario: Quiero devolver una bolsa compostable, llegó hace 10 días y está sin abrir. ¿Cómo hago?\\n(Política de devoluciones disponible arriba)\\n', 'return_positive_reasoning': 'Hogar/Cocina no perecedero, dentro de 30 días y sin uso → elegible; pedir número de pedido y dar pasos.', 'return_positive_output': 'Es elegible: dentro de 30 días y sin abrir. ¿Me compartes tu número de pedido/seguimiento para generar la etiqueta? Empaca en su empaque original y entrégalo en el punto indicado; el reembolso se procesa en 5–10 días hábiles tras recibirlo.', 'return_negative_example': 'Usuario: Quiero devolver un perfume abierto que no me gustó.\\n(Política de devoluciones disponible arriba)\\n', 'return_negative_reasoning': 'Higiene/cosmética abiertos → no elegible; responder empático, explicar y ofrecer alternativa.', 'return_negative_output': 'Lamento la situación. Por seguridad, los productos de higiene/cosmética abiertos no son elegibles para devolución. Si deseas, puedo recomendarte opciones alternativas o asistencia de uso.'}}\n"
     ]
    }
   ],
   "source": [
    "settings_path = Path(project_root / \"ecomarket_settings_final.toml\")\n",
    "with settings_path.open(\"rb\") as settings_path:\n",
    "    settings = tomllib.load(settings_path)\n",
    "print(settings)"
   ]
  },
  {
   "cell_type": "code",
   "execution_count": 4,
   "id": "4a54f5ed",
   "metadata": {},
   "outputs": [
    {
     "name": "stdout",
     "output_type": "stream",
     "text": [
      "{'policy': {'company': 'EcoMarket', 'window_days': 30, 'doa_days': 7, 'refund_days': '5–10', 'requirements': ['Empaque original', 'Producto sin uso', 'Comprobante de compra'], 'allowed_categories': ['Hogar', 'Cocina', 'Energía', 'Limpieza'], 'non_returnable': ['Perecederos', 'Higiene/cosmética abiertos', 'Ropa interior usada', 'Productos personalizados'], 'steps': ['Solicitar número de seguimiento/pedido, fecha de entrega y motivo', 'Validar elegibilidad según la política', 'Generar etiqueta, empacar y entregar en el punto indicado', 'Procesar reembolso en 5–10 días hábiles tras recepción'], 'alternatives': ['Soporte de uso', 'Cambio por artículo elegible', 'Guía de reciclaje responsable']}}\n"
     ]
    }
   ],
   "source": [
    "devolucion_path = Path(project_root / \"politicas_devoluciones.toml\")\n",
    "with devolucion_path.open(\"rb\") as devolucion_file:\n",
    "    devolucion = tomllib.load(devolucion_file)\n",
    "print(devolucion)"
   ]
  },
  {
   "cell_type": "code",
   "execution_count": 5,
   "id": "a5a7d0bf",
   "metadata": {},
   "outputs": [],
   "source": [
    "def _as_list(x):\n",
    "    if x is None:\n",
    "        return []\n",
    "    return x if isinstance(x, list) else [x]\n",
    "\n",
    "def build_policy_text_from_toml(devolucion: dict) -> str:\n",
    "    \"\"\"\n",
    "    Convierte el dict cargado de politicas_devoluciones.toml en el bloque POLITICA_DEVOLUCIONES\n",
    "    que tu prompt espera (texto conciso y estructurado).\n",
    "    \"\"\"\n",
    "    pol = devolucion.get(\"policy\", devolucion)  # por si el archivo no tiene sección [policy]\n",
    "    company       = pol.get(\"company\", \"EcoMarket\")\n",
    "    window_days   = pol.get(\"window_days\", 30)\n",
    "    doa_days      = pol.get(\"doa_days\", 7)\n",
    "    refund_days   = pol.get(\"refund_days\", \"5–10\")\n",
    "\n",
    "    requirements       = _as_list(pol.get(\"requirements\"))\n",
    "    allowed_categories = _as_list(pol.get(\"allowed_categories\"))\n",
    "    non_returnable     = _as_list(pol.get(\"non_returnable\"))\n",
    "    steps              = _as_list(pol.get(\"steps\"))\n",
    "    alternatives       = _as_list(pol.get(\"alternatives\"))\n",
    "\n",
    "    lines = [\n",
    "        \"# POLITICA_DEVOLUCIONES — \" + company,\n",
    "        f\"VENTANA_STANDARD: {window_days} días desde la entrega. DOA: reportado dentro de {doa_days} días.\",\n",
    "        f\"Reembolso: {refund_days} días hábiles tras recepción.\",\n",
    "        \"REQUISITOS: \" + (\", \".join(requirements) if requirements else \"–\"),\n",
    "        \"ELEGIBLES (ejemplos): \" + (\", \".join(allowed_categories) if allowed_categories else \"–\"),\n",
    "        \"NO ELEGIBLES: \" + (\", \".join(non_returnable) if non_returnable else \"–\"),\n",
    "        \"PROCESO:\",\n",
    "    ]\n",
    "    # pasos\n",
    "    for i, s in enumerate(steps, 1):\n",
    "        lines.append(f\"{i}) {s}\")\n",
    "    if alternatives:\n",
    "        lines.append(\"ALTERNATIVAS: \" + \", \".join(alternatives))\n",
    "\n",
    "    return \"\\n\".join(lines)"
   ]
  },
  {
   "cell_type": "code",
   "execution_count": 6,
   "id": "75cf822c",
   "metadata": {},
   "outputs": [
    {
     "name": "stdout",
     "output_type": "stream",
     "text": [
      "['# POLITICA_DEVOLUCIONES — EcoMarket', 'VENTANA_STANDARD: 30 días desde la entrega. DOA: reportado dentro de 7 días.', 'Reembolso: 5–10 días hábiles tras recepción.', 'REQUISITOS: Empaque original, Producto sin uso, Comprobante de compra', 'ELEGIBLES (ejemplos): Hogar, Cocina, Energía, Limpieza', 'NO ELEGIBLES: Perecederos, Higiene/cosmética abiertos, Ropa interior usada, Productos personalizados', 'PROCESO:', '1) Solicitar número de seguimiento/pedido, fecha de entrega y motivo']\n"
     ]
    }
   ],
   "source": [
    "POLITICA_DEVOLUCIONES_TXT = build_policy_text_from_toml(devolucion)\n",
    "print(POLITICA_DEVOLUCIONES_TXT.splitlines()[:8])  # vista rápida"
   ]
  },
  {
   "cell_type": "code",
   "execution_count": 7,
   "id": "566cc2ae",
   "metadata": {},
   "outputs": [],
   "source": [
    "def assemble_messages_unified(prompts: dict, doc_pedidos: str, doc_politica: str, user_utterance: str):\n",
    "    P = prompts\n",
    "    instr = (\n",
    "        P[\"instruction_prompt\"]\n",
    "        .replace(\">>>>>DOC_PEDIDOS<<<<<\", doc_pedidos)\n",
    "        .replace(\">>>>>DOC_POLITICA<<<<<\", doc_politica)\n",
    "        .replace(\"{{user_utterance}}\", user_utterance)\n",
    "    )\n",
    "\n",
    "    # Heurística simple para elegir qué few-shots añadir primero (opcional)\n",
    "    u = user_utterance.lower()\n",
    "    is_returns = any(k in u for k in [\n",
    "        \"devoluci\", \"devolver\", \"cambio\", \"reembolso\", \"refund\", \"de vuelta\"\n",
    "    ])\n",
    "\n",
    "    msgs = [{\"role\": \"system\", \"content\": P[\"role_prompt\"]}]\n",
    "\n",
    "    if is_returns:\n",
    "        # Prioriza ejemplos de devoluciones + uno de seguimiento por si el usuario mezcla\n",
    "        msgs += [\n",
    "            {\"role\": \"user\", \"content\": P[\"return_positive_example\"]},\n",
    "            {\"role\": \"system\", \"content\": P[\"return_positive_reasoning\"]},\n",
    "            {\"role\": \"assistant\", \"content\": P[\"return_positive_output\"]},\n",
    "\n",
    "            {\"role\": \"user\", \"content\": P[\"return_negative_example\"]},\n",
    "            {\"role\": \"system\", \"content\": P[\"return_negative_reasoning\"]},\n",
    "            {\"role\": \"assistant\", \"content\": P[\"return_negative_output\"]},\n",
    "\n",
    "            {\"role\": \"user\", \"content\": P[\"track_negative_example\"]},\n",
    "            {\"role\": \"system\", \"content\": P[\"track_negative_reasoning\"]},\n",
    "            {\"role\": \"assistant\", \"content\": P[\"track_negative_output\"]},\n",
    "        ]\n",
    "    else:\n",
    "        # Prioriza ejemplos de seguimiento + uno de devoluciones por si la intención cambia\n",
    "        msgs += [\n",
    "            {\"role\": \"user\", \"content\": P[\"track_negative_example\"]},\n",
    "            {\"role\": \"system\", \"content\": P[\"track_negative_reasoning\"]},\n",
    "            {\"role\": \"assistant\", \"content\": P[\"track_negative_output\"]},\n",
    "\n",
    "            {\"role\": \"user\", \"content\": P[\"track_positive_example\"]},\n",
    "            {\"role\": \"system\", \"content\": P[\"track_positive_reasoning\"]},\n",
    "            {\"role\": \"assistant\", \"content\": P[\"track_positive_output\"]},\n",
    "\n",
    "            {\"role\": \"user\", \"content\": P[\"return_positive_example\"]},\n",
    "            {\"role\": \"system\", \"content\": P[\"return_positive_reasoning\"]},\n",
    "            {\"role\": \"assistant\", \"content\": P[\"return_positive_output\"]},\n",
    "        ]\n",
    "\n",
    "    msgs.append({\"role\": \"user\", \"content\": instr})\n",
    "    return msgs"
   ]
  },
  {
   "cell_type": "code",
   "execution_count": 8,
   "id": "1752edb0",
   "metadata": {},
   "outputs": [],
   "source": [
    "def ask_support_unified(doc_pedidos_txt: str, politica_txt: str, user_utterance: str, client, SETTINGS):\n",
    "    msgs = assemble_messages_unified(SETTINGS[\"prompts\"], doc_pedidos_txt, politica_txt, user_utterance)\n",
    "    resp = client.chat.completions.create(\n",
    "        model=SETTINGS[\"general\"][\"model\"],\n",
    "        messages=msgs,\n",
    "        temperature=SETTINGS[\"general\"][\"temperature\"],\n",
    "        max_tokens=400,\n",
    "    )\n",
    "    return resp.choices[0].message.content"
   ]
  },
  {
   "cell_type": "code",
   "execution_count": 9,
   "id": "7764bc06",
   "metadata": {},
   "outputs": [
    {
     "name": "stdout",
     "output_type": "stream",
     "text": [
      "¡Hola! Para ayudarte con el estado de tu pedido, necesito el número de seguimiento. ¿Podrías proporcionarlo, por favor? Estoy aquí para ayudarte.\n",
      "-----\n",
      "¡Hola Jairo! ¿En qué puedo ayudarte hoy? ¿Tienes algún número de seguimiento o pedido que quieras consultar?\n",
      "-----\n",
      "El pedido 20004 está \"Retrasado\". La fecha estimada de entrega es 2025-10-03, y el carrier es Servientrega. Puedes rastrearlo en https://tracking.ecomarket.example/servientrega/20004. Lamentamos la demora; el transportista reporta alta demanda. Te ofrecemos un 10% de descuento en tu próxima compra. ¿Necesitas algo más?\n",
      "-----\n",
      "El pedido 20003 está \"En tránsito\". Fecha estimada de entrega: 2025-09-28, transportadora=FedEx. Puedes rastrearlo en https://tracking.ecomarket.example/fedex/20003. ¿Necesitas ayuda con algo más?\n",
      "-----\n",
      "Lo siento, pero no tengo información sobre el pedido 99999. ¿Podrías proporcionarme el número de seguimiento correcto para ayudarte con el estado de tu pedido?\n",
      "-----\n"
     ]
    }
   ],
   "source": [
    "# 1) Solo saludo → debe saludar y pedir el número de seguimiento.\n",
    "print(ask_support_unified(\n",
    "    documento_txt, POLITICA_DEVOLUCIONES_TXT,\n",
    "    \"Hola 👋 ¿me ayudas con el estado de mi pedido?\",\n",
    "    client, settings\n",
    "))\n",
    "print(\"-----\")\n",
    "\n",
    "# 2) Saludo sin contexto (sin tracking) → debe pedir el número amablemente.\n",
    "print(ask_support_unified(\n",
    "    documento_txt, POLITICA_DEVOLUCIONES_TXT,\n",
    "    \"Hola 👋 jairo\",\n",
    "    client, settings\n",
    "))\n",
    "print(\"-----\")\n",
    "\n",
    "# 3) Tracking explícito válido (ej. 20004) → debe devolver estado, ETA, link y carrier.\n",
    "print(ask_support_unified(\n",
    "    documento_txt, POLITICA_DEVOLUCIONES_TXT,\n",
    "    \"Buenas, el número es 20004. ¿Cómo va?\",\n",
    "    client, settings\n",
    "))\n",
    "print(\"-----\")\n",
    "\n",
    "# 4) Varios números; el modelo debe elegir el que exista en el documento (ej. 20003).\n",
    "print(ask_support_unified(\n",
    "    documento_txt, POLITICA_DEVOLUCIONES_TXT,\n",
    "    \"Tengo 12345 y 20003, creo que es el segundo. ¿Me confirmas el estado?\",\n",
    "    client, settings\n",
    "))\n",
    "print(\"-----\")\n",
    "\n",
    "# 5) Número inexistente (ej. 99999) → debe responder con empatía y pedir confirmación/corrección.\n",
    "print(ask_support_unified(\n",
    "    documento_txt, POLITICA_DEVOLUCIONES_TXT,\n",
    "    \"Estado del pedido 99999, por favor.\",\n",
    "    client, settings\n",
    "))\n",
    "print(\"-----\")"
   ]
  },
  {
   "cell_type": "code",
   "execution_count": 10,
   "id": "17a424eb",
   "metadata": {},
   "outputs": [
    {
     "name": "stdout",
     "output_type": "stream",
     "text": [
      "La bolsa compostable es elegible para devolución. ¿Podrías proporcionarme el número de pedido para generar la etiqueta de devolución? Recuerda que debe estar en su empaque original y sin abrir. Te guiaré con los pasos siguientes.\n",
      "-----\n",
      "Lamento que el perfume no te haya gustado. Desafortunadamente, los productos de higiene/cosmética abiertos no son elegibles para devolución. Te ofrezco soporte de uso o una guía de reciclaje responsable como alternativa. ¿Te gustaría explorar alguna de estas opciones?\n",
      "-----\n",
      "Lamento que el panel solar portátil haya llegado dañado. Para proceder, necesito el número de seguimiento o pedido. ¿Podrías proporcionarlo? También necesitaré fotos del daño para validar el incidente y proceder con la devolución o cambio.\n",
      "-----\n",
      "Lamento que no te guste el café en grano. Desafortunadamente, los productos perecederos no son elegibles para devolución. Te ofrezco soporte de uso o una guía de reciclaje responsable para ayudarte a disfrutar de tu compra de manera sostenible. ¿Te gustaría más información sobre esto?\n",
      "-----\n",
      "Lamento informarte que el detergente ecológico no es elegible para devolución ya que han pasado 45 días desde la entrega, superando nuestra ventana de devolución de 30 días. Entiendo tu situación y te ofrezco soporte de uso o una guía de reciclaje responsable como alternativa. ¿Te gustaría más información sobre esto?\n",
      "-----\n"
     ]
    }
   ],
   "source": [
    "# 1) Elegible (sin abrir, dentro de 30 días) → debe pedir nº de pedido/seguimiento y dar pasos\n",
    "print(ask_support_unified(documento_txt, POLITICA_DEVOLUCIONES_TXT,\n",
    "      \"Hola, quiero devolver una bolsa compostable sin abrir; llegó hace 10 días. ¿Cómo hago?\",\n",
    "      client, settings))\n",
    "print(\"-----\")\n",
    "\n",
    "# 2) No elegible (higiene/cosmética abierto) → explicar con empatía y ofrecer alternativa\n",
    "print(ask_support_unified(documento_txt, POLITICA_DEVOLUCIONES_TXT,\n",
    "      \"Quiero devolver un perfume que abrí y no me gustó.\",\n",
    "      client, settings))\n",
    "print(\"-----\")\n",
    "\n",
    "# 3) DOA / Daño en transporte (reportado dentro de 7 días) → solicitar evidencias y dar pasos de reemplazo/reembolso\n",
    "print(ask_support_unified(documento_txt, POLITICA_DEVOLUCIONES_TXT,\n",
    "      \"El panel solar portátil llegó golpeado hoy. ¿Puedo devolverlo o cambiarlo?\",\n",
    "      client, settings))\n",
    "print(\"-----\")\n",
    "\n",
    "# 4) No elegible (perecedero) → rechazar con empatía y alternativa\n",
    "print(ask_support_unified(documento_txt, POLITICA_DEVOLUCIONES_TXT,\n",
    "      \"Compré café en grano (perecedero) y lo abrí; quiero devolverlo.\",\n",
    "      client, settings))\n",
    "print(\"-----\")\n",
    "\n",
    "# 5) Fuera de ventana (pasados 30 días, sin usar) → explicar límite y alternativas\n",
    "print(ask_support_unified(documento_txt, POLITICA_DEVOLUCIONES_TXT,\n",
    "      \"Necesito devolver un detergente ecológico sin usar, pero ya pasaron 45 días desde la entrega.\",\n",
    "      client, settings))\n",
    "print(\"-----\")"
   ]
  },
  {
   "cell_type": "code",
   "execution_count": null,
   "id": "6522318c",
   "metadata": {},
   "outputs": [],
   "source": [
    "def assemble_messages_unified(prompts: dict, doc_pedidos: str, doc_politica: str, user_utterance: str):\n",
    "    P = prompts\n",
    "    instr = (\n",
    "        P[\"instruction_prompt\"]\n",
    "        .replace(\">>>>>DOC_PEDIDOS<<<<<\", doc_pedidos)\n",
    "        .replace(\">>>>>DOC_POLITICA<<<<<\", doc_politica)\n",
    "        .replace(\"{{user_utterance}}\", user_utterance)\n",
    "    )\n",
    "\n",
    "    # Heurística simple para elegir qué few-shots añadir primero (opcional)\n",
    "    u = user_utterance.lower()\n",
    "    is_returns = any(k in u for k in [\n",
    "        \"devoluci\", \"devolver\", \"cambio\", \"reembolso\", \"refund\", \"de vuelta\"\n",
    "    ])\n",
    "\n",
    "    msgs = [{\"role\": \"system\", \"content\": P[\"role_prompt\"]}]\n",
    "\n",
    "    if is_returns:\n",
    "        # Prioriza ejemplos de devoluciones + uno de seguimiento por si el usuario mezcla\n",
    "        msgs += [\n",
    "            {\"role\": \"user\", \"content\": P[\"return_positive_example\"]},\n",
    "            {\"role\": \"system\", \"content\": P[\"return_positive_reasoning\"]},\n",
    "            {\"role\": \"assistant\", \"content\": P[\"return_positive_output\"]},\n",
    "\n",
    "            {\"role\": \"user\", \"content\": P[\"return_negative_example\"]},\n",
    "            {\"role\": \"system\", \"content\": P[\"return_negative_reasoning\"]},\n",
    "            {\"role\": \"assistant\", \"content\": P[\"return_negative_output\"]},\n",
    "\n",
    "            {\"role\": \"user\", \"content\": P[\"track_negative_example\"]},\n",
    "            {\"role\": \"system\", \"content\": P[\"track_negative_reasoning\"]},\n",
    "            {\"role\": \"assistant\", \"content\": P[\"track_negative_output\"]},\n",
    "        ]\n",
    "    else:\n",
    "        # Prioriza ejemplos de seguimiento + uno de devoluciones por si la intención cambia\n",
    "        msgs += [\n",
    "            {\"role\": \"user\", \"content\": P[\"track_negative_example\"]},\n",
    "            {\"role\": \"system\", \"content\": P[\"track_negative_reasoning\"]},\n",
    "            {\"role\": \"assistant\", \"content\": P[\"track_negative_output\"]},\n",
    "\n",
    "            {\"role\": \"user\", \"content\": P[\"track_positive_example\"]},\n",
    "            {\"role\": \"system\", \"content\": P[\"track_positive_reasoning\"]},\n",
    "            {\"role\": \"assistant\", \"content\": P[\"track_positive_output\"]},\n",
    "\n",
    "            {\"role\": \"user\", \"content\": P[\"return_positive_example\"]},\n",
    "            {\"role\": \"system\", \"content\": P[\"return_positive_reasoning\"]},\n",
    "            {\"role\": \"assistant\", \"content\": P[\"return_positive_output\"]},\n",
    "        ]\n",
    "\n",
    "    msgs.append({\"role\": \"user\", \"content\": instr})\n",
    "    return msgs\n"
   ]
  },
  {
   "cell_type": "code",
   "execution_count": 4,
   "id": "a7233279",
   "metadata": {},
   "outputs": [
    {
     "name": "stdout",
     "output_type": "stream",
     "text": [
      "¡Hola! Gracias por escribirnos. Para ayudarte con el estado de tu pedido, ¿me compartes el número de seguimiento? Si no lo tienes a mano, puedes encontrarlo en el correo de confirmación.\n",
      "-----\n",
      "¡Hola Jairo! 👋 Gracias por escribirnos. Para ayudarte con el estado de tu pedido, ¿me compartes el número de seguimiento? Si no lo tienes a mano, puedes encontrarlo en el correo de confirmación.\n",
      "-----\n",
      "El pedido 20004 está \"Retrasado\" con fecha estimada de entrega 2025-10-03. Puedes rastrearlo en https://tracking.ecomarket.example/servientrega/20004 con Servientrega. Lamentamos la demora. Te ofrecemos un 10% de descuento en tu próxima compra.\n",
      "-----\n",
      "El pedido 20003 está \"En tránsito\" con fecha estimada de entrega 2025-09-28. Puedes rastrearlo en https://tracking.ecomarket.example/fedex/20003 con FedEx. ¿Necesitas más ayuda?\n",
      "-----\n",
      "Lo siento, el número de seguimiento 99999 no se encuentra en nuestro registro. ¿Podrías verificar y proporcionar el número correcto para ayudarte con el estado de tu pedido? Estoy aquí para ayudarte.\n"
     ]
    }
   ],
   "source": [
    "def assemble_messages(prompts: dict, documento: str, user_utterance: str):\n",
    "    P = prompts\n",
    "    instr = (\n",
    "        P[\"instruction_prompt\"]\n",
    "        .replace(\">>>>>DOCUMENTO<<<<<\", documento)\n",
    "        .replace(\"{{user_utterance}}\", user_utterance)\n",
    "    )\n",
    "    return [\n",
    "        {\"role\": \"system\", \"content\": P[\"role_prompt\"]},\n",
    "        {\"role\": \"user\", \"content\": P[\"negative_example\"]},\n",
    "        {\"role\": \"system\", \"content\": P[\"negative_reasoning\"]},\n",
    "        {\"role\": \"assistant\", \"content\": P[\"negative_output\"]},\n",
    "        {\"role\": \"user\", \"content\": P[\"positive_example\"]},\n",
    "        {\"role\": \"system\", \"content\": P[\"positive_reasoning\"]},\n",
    "        {\"role\": \"assistant\", \"content\": P[\"positive_output\"]},\n",
    "        {\"role\": \"user\", \"content\": instr},\n",
    "    ]\n",
    "    \n",
    "def ask_status_infer(documento_txt: str, user_utterance: str, client, SETTINGS):\n",
    "    msgs = assemble_messages(SETTINGS[\"prompts\"], documento_txt, user_utterance)\n",
    "    resp = client.chat.completions.create(\n",
    "        model=SETTINGS[\"general\"][\"model\"],\n",
    "        messages=msgs,\n",
    "        temperature=SETTINGS[\"general\"][\"temperature\"],\n",
    "    )\n",
    "    return resp.choices[0].message.content\n",
    "\n",
    "\n",
    "# 1) Solo saludo (debe pedir el tracking)\n",
    "print(ask_status_infer(documento_txt, \"Hola 👋 ¿me ayudas con el estado de mi pedido?\", client, settings))\n",
    "print(\"-----\")\n",
    "\n",
    "print(ask_status_infer(documento_txt, \"Hola 👋 jairo\", client, settings))\n",
    "print(\"-----\")\n",
    "\n",
    "# 2) Mensaje con un número válido existente en tu documento (p. ej., 20004)\n",
    "print(ask_status_infer(documento_txt, \"Buenas, el número es 20004. ¿Cómo va?\", client, settings))\n",
    "print(\"-----\")\n",
    "\n",
    "# 3) Mensaje con varios números (uno válido en doc, otro no)\n",
    "print(ask_status_infer(documento_txt, \"Tengo 12345 y 20003, creo que es el segundo. ¿Me confirmas el estado?\", client, settings))\n",
    "print(\"-----\")\n",
    "\n",
    "# 4) Número que no existe en el documento\n",
    "print(ask_status_infer(documento_txt, \"Estado del pedido 99999, por favor.\", client, settings))"
   ]
  },
  {
   "cell_type": "code",
   "execution_count": 63,
   "id": "cbcb785e",
   "metadata": {},
   "outputs": [
    {
     "ename": "ZoneInfoNotFoundError",
     "evalue": "'No time zone found with key America/Bogota'",
     "output_type": "error",
     "traceback": [
      "\u001b[31m---------------------------------------------------------------------------\u001b[39m",
      "\u001b[31mModuleNotFoundError\u001b[39m                       Traceback (most recent call last)",
      "\u001b[36mFile \u001b[39m\u001b[32mC:\\Program Files\\WindowsApps\\PythonSoftwareFoundation.Python.3.11_3.11.2544.0_x64__qbz5n2kfra8p0\\Lib\\zoneinfo\\_common.py:12\u001b[39m, in \u001b[36mload_tzdata\u001b[39m\u001b[34m(key)\u001b[39m\n\u001b[32m     11\u001b[39m \u001b[38;5;28;01mtry\u001b[39;00m:\n\u001b[32m---> \u001b[39m\u001b[32m12\u001b[39m     \u001b[38;5;28;01mreturn\u001b[39;00m \u001b[43mresources\u001b[49m\u001b[43m.\u001b[49m\u001b[43mfiles\u001b[49m\u001b[43m(\u001b[49m\u001b[43mpackage_name\u001b[49m\u001b[43m)\u001b[49m.joinpath(resource_name).open(\u001b[33m\"\u001b[39m\u001b[33mrb\u001b[39m\u001b[33m\"\u001b[39m)\n\u001b[32m     13\u001b[39m \u001b[38;5;28;01mexcept\u001b[39;00m (\u001b[38;5;167;01mImportError\u001b[39;00m, \u001b[38;5;167;01mFileNotFoundError\u001b[39;00m, \u001b[38;5;167;01mUnicodeEncodeError\u001b[39;00m):\n\u001b[32m     14\u001b[39m     \u001b[38;5;66;03m# There are three types of exception that can be raised that all amount\u001b[39;00m\n\u001b[32m     15\u001b[39m     \u001b[38;5;66;03m# to \"we cannot find this key\":\u001b[39;00m\n\u001b[32m   (...)\u001b[39m\u001b[32m     22\u001b[39m     \u001b[38;5;66;03m# UnicodeEncodeError: If package_name or resource_name are not UTF-8,\u001b[39;00m\n\u001b[32m     23\u001b[39m     \u001b[38;5;66;03m#   such as keys containing a surrogate character.\u001b[39;00m\n",
      "\u001b[36mFile \u001b[39m\u001b[32mC:\\Program Files\\WindowsApps\\PythonSoftwareFoundation.Python.3.11_3.11.2544.0_x64__qbz5n2kfra8p0\\Lib\\importlib\\resources\\_common.py:22\u001b[39m, in \u001b[36mfiles\u001b[39m\u001b[34m(package)\u001b[39m\n\u001b[32m     19\u001b[39m \u001b[38;5;250m\u001b[39m\u001b[33;03m\"\"\"\u001b[39;00m\n\u001b[32m     20\u001b[39m \u001b[33;03mGet a Traversable resource from a package\u001b[39;00m\n\u001b[32m     21\u001b[39m \u001b[33;03m\"\"\"\u001b[39;00m\n\u001b[32m---> \u001b[39m\u001b[32m22\u001b[39m \u001b[38;5;28;01mreturn\u001b[39;00m from_package(\u001b[43mget_package\u001b[49m\u001b[43m(\u001b[49m\u001b[43mpackage\u001b[49m\u001b[43m)\u001b[49m)\n",
      "\u001b[36mFile \u001b[39m\u001b[32mC:\\Program Files\\WindowsApps\\PythonSoftwareFoundation.Python.3.11_3.11.2544.0_x64__qbz5n2kfra8p0\\Lib\\importlib\\resources\\_common.py:53\u001b[39m, in \u001b[36mget_package\u001b[39m\u001b[34m(package)\u001b[39m\n\u001b[32m     49\u001b[39m \u001b[38;5;250m\u001b[39m\u001b[33;03m\"\"\"Take a package name or module object and return the module.\u001b[39;00m\n\u001b[32m     50\u001b[39m \n\u001b[32m     51\u001b[39m \u001b[33;03mRaise an exception if the resolved module is not a package.\u001b[39;00m\n\u001b[32m     52\u001b[39m \u001b[33;03m\"\"\"\u001b[39;00m\n\u001b[32m---> \u001b[39m\u001b[32m53\u001b[39m resolved = \u001b[43mresolve\u001b[49m\u001b[43m(\u001b[49m\u001b[43mpackage\u001b[49m\u001b[43m)\u001b[49m\n\u001b[32m     54\u001b[39m \u001b[38;5;28;01mif\u001b[39;00m wrap_spec(resolved).submodule_search_locations \u001b[38;5;129;01mis\u001b[39;00m \u001b[38;5;28;01mNone\u001b[39;00m:\n",
      "\u001b[36mFile \u001b[39m\u001b[32mC:\\Program Files\\WindowsApps\\PythonSoftwareFoundation.Python.3.11_3.11.2544.0_x64__qbz5n2kfra8p0\\Lib\\importlib\\resources\\_common.py:44\u001b[39m, in \u001b[36mresolve\u001b[39m\u001b[34m(cand)\u001b[39m\n\u001b[32m     42\u001b[39m \u001b[38;5;28;01mdef\u001b[39;00m\u001b[38;5;250m \u001b[39m\u001b[34mresolve\u001b[39m(cand):\n\u001b[32m     43\u001b[39m     \u001b[38;5;66;03m# type: (Package) -> types.ModuleType\u001b[39;00m\n\u001b[32m---> \u001b[39m\u001b[32m44\u001b[39m     \u001b[38;5;28;01mreturn\u001b[39;00m cand \u001b[38;5;28;01mif\u001b[39;00m \u001b[38;5;28misinstance\u001b[39m(cand, types.ModuleType) \u001b[38;5;28;01melse\u001b[39;00m \u001b[43mimportlib\u001b[49m\u001b[43m.\u001b[49m\u001b[43mimport_module\u001b[49m\u001b[43m(\u001b[49m\u001b[43mcand\u001b[49m\u001b[43m)\u001b[49m\n",
      "\u001b[36mFile \u001b[39m\u001b[32mC:\\Program Files\\WindowsApps\\PythonSoftwareFoundation.Python.3.11_3.11.2544.0_x64__qbz5n2kfra8p0\\Lib\\importlib\\__init__.py:126\u001b[39m, in \u001b[36mimport_module\u001b[39m\u001b[34m(name, package)\u001b[39m\n\u001b[32m    125\u001b[39m         level += \u001b[32m1\u001b[39m\n\u001b[32m--> \u001b[39m\u001b[32m126\u001b[39m \u001b[38;5;28;01mreturn\u001b[39;00m \u001b[43m_bootstrap\u001b[49m\u001b[43m.\u001b[49m\u001b[43m_gcd_import\u001b[49m\u001b[43m(\u001b[49m\u001b[43mname\u001b[49m\u001b[43m[\u001b[49m\u001b[43mlevel\u001b[49m\u001b[43m:\u001b[49m\u001b[43m]\u001b[49m\u001b[43m,\u001b[49m\u001b[43m \u001b[49m\u001b[43mpackage\u001b[49m\u001b[43m,\u001b[49m\u001b[43m \u001b[49m\u001b[43mlevel\u001b[49m\u001b[43m)\u001b[49m\n",
      "\u001b[36mFile \u001b[39m\u001b[32m<frozen importlib._bootstrap>:1204\u001b[39m, in \u001b[36m_gcd_import\u001b[39m\u001b[34m(name, package, level)\u001b[39m\n",
      "\u001b[36mFile \u001b[39m\u001b[32m<frozen importlib._bootstrap>:1176\u001b[39m, in \u001b[36m_find_and_load\u001b[39m\u001b[34m(name, import_)\u001b[39m\n",
      "\u001b[36mFile \u001b[39m\u001b[32m<frozen importlib._bootstrap>:1126\u001b[39m, in \u001b[36m_find_and_load_unlocked\u001b[39m\u001b[34m(name, import_)\u001b[39m\n",
      "\u001b[36mFile \u001b[39m\u001b[32m<frozen importlib._bootstrap>:241\u001b[39m, in \u001b[36m_call_with_frames_removed\u001b[39m\u001b[34m(f, *args, **kwds)\u001b[39m\n",
      "\u001b[36mFile \u001b[39m\u001b[32m<frozen importlib._bootstrap>:1204\u001b[39m, in \u001b[36m_gcd_import\u001b[39m\u001b[34m(name, package, level)\u001b[39m\n",
      "\u001b[36mFile \u001b[39m\u001b[32m<frozen importlib._bootstrap>:1176\u001b[39m, in \u001b[36m_find_and_load\u001b[39m\u001b[34m(name, import_)\u001b[39m\n",
      "\u001b[36mFile \u001b[39m\u001b[32m<frozen importlib._bootstrap>:1126\u001b[39m, in \u001b[36m_find_and_load_unlocked\u001b[39m\u001b[34m(name, import_)\u001b[39m\n",
      "\u001b[36mFile \u001b[39m\u001b[32m<frozen importlib._bootstrap>:241\u001b[39m, in \u001b[36m_call_with_frames_removed\u001b[39m\u001b[34m(f, *args, **kwds)\u001b[39m\n",
      "\u001b[36mFile \u001b[39m\u001b[32m<frozen importlib._bootstrap>:1204\u001b[39m, in \u001b[36m_gcd_import\u001b[39m\u001b[34m(name, package, level)\u001b[39m\n",
      "\u001b[36mFile \u001b[39m\u001b[32m<frozen importlib._bootstrap>:1176\u001b[39m, in \u001b[36m_find_and_load\u001b[39m\u001b[34m(name, import_)\u001b[39m\n",
      "\u001b[36mFile \u001b[39m\u001b[32m<frozen importlib._bootstrap>:1140\u001b[39m, in \u001b[36m_find_and_load_unlocked\u001b[39m\u001b[34m(name, import_)\u001b[39m\n",
      "\u001b[31mModuleNotFoundError\u001b[39m: No module named 'tzdata'",
      "\nDuring handling of the above exception, another exception occurred:\n",
      "\u001b[31mZoneInfoNotFoundError\u001b[39m                     Traceback (most recent call last)",
      "\u001b[36mCell\u001b[39m\u001b[36m \u001b[39m\u001b[32mIn[63]\u001b[39m\u001b[32m, line 6\u001b[39m\n\u001b[32m      4\u001b[39m ms = \u001b[32m1759104000000\u001b[39m  \u001b[38;5;66;03m# tomado de la cabecera\u001b[39;00m\n\u001b[32m      5\u001b[39m reset_utc = datetime.fromtimestamp(ms/\u001b[32m1000\u001b[39m, tz=timezone.utc)\n\u001b[32m----> \u001b[39m\u001b[32m6\u001b[39m reset_local = reset_utc.astimezone(\u001b[43mZoneInfo\u001b[49m\u001b[43m(\u001b[49m\u001b[33;43m\"\u001b[39;49m\u001b[33;43mAmerica/Bogota\u001b[39;49m\u001b[33;43m\"\u001b[39;49m\u001b[43m)\u001b[49m)\n\u001b[32m      7\u001b[39m \u001b[38;5;28mprint\u001b[39m(\u001b[33m\"\u001b[39m\u001b[33mReset (UTC):  \u001b[39m\u001b[33m\"\u001b[39m, reset_utc)\n\u001b[32m      8\u001b[39m \u001b[38;5;28mprint\u001b[39m(\u001b[33m\"\u001b[39m\u001b[33mReset (Bogotá):\u001b[39m\u001b[33m\"\u001b[39m, reset_local)\n",
      "\u001b[36mFile \u001b[39m\u001b[32mC:\\Program Files\\WindowsApps\\PythonSoftwareFoundation.Python.3.11_3.11.2544.0_x64__qbz5n2kfra8p0\\Lib\\zoneinfo\\_common.py:24\u001b[39m, in \u001b[36mload_tzdata\u001b[39m\u001b[34m(key)\u001b[39m\n\u001b[32m     12\u001b[39m     \u001b[38;5;28;01mreturn\u001b[39;00m resources.files(package_name).joinpath(resource_name).open(\u001b[33m\"\u001b[39m\u001b[33mrb\u001b[39m\u001b[33m\"\u001b[39m)\n\u001b[32m     13\u001b[39m \u001b[38;5;28;01mexcept\u001b[39;00m (\u001b[38;5;167;01mImportError\u001b[39;00m, \u001b[38;5;167;01mFileNotFoundError\u001b[39;00m, \u001b[38;5;167;01mUnicodeEncodeError\u001b[39;00m):\n\u001b[32m     14\u001b[39m     \u001b[38;5;66;03m# There are three types of exception that can be raised that all amount\u001b[39;00m\n\u001b[32m     15\u001b[39m     \u001b[38;5;66;03m# to \"we cannot find this key\":\u001b[39;00m\n\u001b[32m   (...)\u001b[39m\u001b[32m     22\u001b[39m     \u001b[38;5;66;03m# UnicodeEncodeError: If package_name or resource_name are not UTF-8,\u001b[39;00m\n\u001b[32m     23\u001b[39m     \u001b[38;5;66;03m#   such as keys containing a surrogate character.\u001b[39;00m\n\u001b[32m---> \u001b[39m\u001b[32m24\u001b[39m     \u001b[38;5;28;01mraise\u001b[39;00m ZoneInfoNotFoundError(\u001b[33mf\u001b[39m\u001b[33m\"\u001b[39m\u001b[33mNo time zone found with key \u001b[39m\u001b[38;5;132;01m{\u001b[39;00mkey\u001b[38;5;132;01m}\u001b[39;00m\u001b[33m\"\u001b[39m)\n",
      "\u001b[31mZoneInfoNotFoundError\u001b[39m: 'No time zone found with key America/Bogota'"
     ]
    }
   ],
   "source": [
    "from datetime import datetime, timezone\n",
    "from zoneinfo import ZoneInfo\n",
    "\n",
    "ms = 1759104000000  # tomado de la cabecera\n",
    "reset_utc = datetime.fromtimestamp(ms/1000, tz=timezone.utc)\n",
    "reset_local = reset_utc.astimezone(ZoneInfo(\"America/Bogota\"))\n",
    "print(\"Reset (UTC):  \", reset_utc)\n",
    "print(\"Reset (Bogotá):\", reset_local)"
   ]
  }
 ],
 "metadata": {
  "kernelspec": {
   "display_name": "Python (IA_generativa)",
   "language": "python",
   "name": "ia_generativa"
  },
  "language_info": {
   "codemirror_mode": {
    "name": "ipython",
    "version": 3
   },
   "file_extension": ".py",
   "mimetype": "text/x-python",
   "name": "python",
   "nbconvert_exporter": "python",
   "pygments_lexer": "ipython3",
   "version": "3.11.9"
  }
 },
 "nbformat": 4,
 "nbformat_minor": 5
}
