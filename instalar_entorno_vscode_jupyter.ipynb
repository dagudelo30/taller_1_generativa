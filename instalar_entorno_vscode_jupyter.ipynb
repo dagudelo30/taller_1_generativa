{
 "cells": [
  {
   "cell_type": "markdown",
   "id": "f28d7404",
   "metadata": {},
   "source": [
    "\n",
    "# 🧪 Entorno de trabajo en VS Code con Jupyter \n",
    "\n",
    "Este notebook  guía **paso a paso** para crear un entorno de trabajo en **VS Code** usando **Jupyter Notebooks**.  \n",
    "Incluye dos opciones de entorno: **venv (recomendado y nativo)** y **conda** (si ya usas Anaconda/Miniconda).\n",
    "\n"
   ]
  },
  {
   "cell_type": "markdown",
   "id": "f99c0e56",
   "metadata": {},
   "source": [
    "\n",
    "## Comprobaciones rápidas (versión de Python y pip)\n"
   ]
  },
  {
   "cell_type": "code",
   "execution_count": 1,
   "id": "1c4be0da",
   "metadata": {},
   "outputs": [
    {
     "name": "stdout",
     "output_type": "stream",
     "text": [
      "Versión de Python: 3.11.9 (tags/v3.11.9:de54cf5, Apr  2 2024, 10:12:12) [MSC v.1938 64 bit (AMD64)]\n",
      "pip encontrado: True\n",
      "python -m pip funciona: True\n",
      "jupyter encontrado: True\n"
     ]
    }
   ],
   "source": [
    "\n",
    "import sys, subprocess, shutil\n",
    "print(\"Versión de Python:\", sys.version)\n",
    "# Comprobar pip y jupyter\n",
    "def cmd_exists(cmd):\n",
    "    return shutil.which(cmd) is not None\n",
    "\n",
    "print(\"pip encontrado:\", cmd_exists(\"pip\"))\n",
    "print(\"python -m pip funciona:\", subprocess.run([sys.executable, \"-m\", \"pip\", \"--version\"], capture_output=True).returncode == 0)\n",
    "print(\"jupyter encontrado:\", cmd_exists(\"jupyter\"))\n"
   ]
  },
  {
   "cell_type": "markdown",
   "id": "69972331",
   "metadata": {},
   "source": [
    "\n",
    "##  Crear un entorno con **venv** \n",
    "Crea un entorno virtual en la carpeta del proyecto (`.venv`) y prepara el kernel para Jupyter.\n"
   ]
  },
  {
   "cell_type": "code",
   "execution_count": 3,
   "id": "4448d22e",
   "metadata": {},
   "outputs": [
    {
     "name": "stdout",
     "output_type": "stream",
     "text": [
      "Carpeta del entorno: C:\\Users\\dagudelo\\venv_ia_generativa\n",
      "✅ Ya existe; se reutiliza.\n"
     ]
    }
   ],
   "source": [
    "import sys, subprocess, os\n",
    "from pathlib import Path\n",
    "\n",
    "# Ruta del nuevo entorno (global para ti)\n",
    "env_name = \"venv_ia_generativa\"\n",
    "venv_dir = Path(r\"C:\\Users\\dagudelo\") / env_name  # <- puedes ponerlo dentro de tu proyecto si prefieres\n",
    "\n",
    "print(\"Carpeta del entorno:\", venv_dir)\n",
    "if not venv_dir.exists():\n",
    "    print(\"📦 Creando entorno virtual...\")\n",
    "    r = subprocess.run([sys.executable, \"-m\", \"venv\", str(venv_dir)], capture_output=True, text=True)\n",
    "    if r.returncode != 0:\n",
    "        print(r.stdout, r.stderr)\n",
    "        raise RuntimeError(\"No se pudo crear el entorno\")\n",
    "    print(\"✅ Entorno creado.\")\n",
    "else:\n",
    "    print(\"✅ Ya existe; se reutiliza.\")"
   ]
  },
  {
   "cell_type": "code",
   "execution_count": 4,
   "id": "d1fb7adf",
   "metadata": {},
   "outputs": [
    {
     "name": "stdout",
     "output_type": "stream",
     "text": [
      "✅ Kernel registrado: Python (IA_generativa)\n",
      "➡️ En VS Code (arriba a la derecha) cambia el Kernel a: Python (IA_generativa)\n"
     ]
    }
   ],
   "source": [
    "import subprocess, os\n",
    "from pathlib import Path\n",
    "\n",
    "is_windows = os.name == \"nt\"\n",
    "py_in_env = Path(rf\"C:\\Users\\dagudelo\\{env_name}\") / (\"Scripts/python.exe\" if is_windows else \"bin/python\")\n",
    "\n",
    "# Asegurar pip + ipykernel dentro del nuevo entorno\n",
    "subprocess.check_call([str(py_in_env), \"-m\", \"pip\", \"install\", \"--upgrade\", \"pip\", \"wheel\"])\n",
    "subprocess.check_call([str(py_in_env), \"-m\", \"pip\", \"install\", \"ipykernel\"])\n",
    "\n",
    "# Registrar el kernel con un nombre visible distintivo\n",
    "kernel_name = \"ia_generativa\"\n",
    "display_name = \"Python (IA_generativa)\"\n",
    "subprocess.check_call([str(py_in_env), \"-m\", \"ipykernel\", \"install\",\n",
    "                       \"--user\", \"--name\", kernel_name, \"--display-name\", display_name])\n",
    "\n",
    "print(f\"✅ Kernel registrado: {display_name}\")\n",
    "print(\"➡️ En VS Code (arriba a la derecha) cambia el Kernel a:\", display_name)"
   ]
  },
  {
   "cell_type": "code",
   "execution_count": 5,
   "id": "ed8d8cc1",
   "metadata": {},
   "outputs": [
    {
     "name": "stdout",
     "output_type": "stream",
     "text": [
      "Available kernels:\n",
      "  python3          C:\\Users\\dagudelo\\venv\\share\\jupyter\\kernels\\python3\n",
      "  ia_generativa    C:\\Users\\dagudelo\\AppData\\Roaming\\jupyter\\kernels\\ia_generativa\n",
      "  venv             C:\\Users\\dagudelo\\AppData\\Roaming\\jupyter\\kernels\\venv\n",
      "\n"
     ]
    }
   ],
   "source": [
    "import subprocess, sys\n",
    "print(subprocess.check_output([sys.executable, \"-m\", \"jupyter\", \"kernelspec\", \"list\"]).decode())"
   ]
  },
  {
   "cell_type": "code",
   "execution_count": 5,
   "id": "51105dbb",
   "metadata": {},
   "outputs": [
    {
     "name": "stdout",
     "output_type": "stream",
     "text": [
      "Kernel actual (python): c:\\Users\\dagudelo\\venv_ia_generativa\\Scripts\\python.exe\n",
      "requirements: d:\\OneDrive - CGIAR\\Desktop\\codigos_dengue\\taller_1_IAgenerativa\\requirements.txt\n",
      "✅ Dependencias instaladas en el entorno IA_generativa.\n"
     ]
    }
   ],
   "source": [
    "import sys, subprocess\n",
    "from pathlib import Path\n",
    "\n",
    "project_root = Path.cwd()\n",
    "req = project_root / \"requirements.txt\"\n",
    "print(\"Kernel actual (python):\", sys.executable)\n",
    "print(\"requirements:\", req)\n",
    "\n",
    "if req.exists():\n",
    "    subprocess.check_call([sys.executable, \"-m\", \"pip\", \"install\", \"--upgrade\", \"pip\"])\n",
    "    subprocess.check_call([sys.executable, \"-m\", \"pip\", \"install\", \"-r\", str(req)])\n",
    "    print(\"✅ Dependencias instaladas en el entorno IA_generativa.\")\n",
    "else:\n",
    "    print(\"⚠️ No existe requirements.txt en:\", req)"
   ]
  }
 ],
 "metadata": {
  "kernelspec": {
   "display_name": "Python (IA_generativa)",
   "language": "python",
   "name": "ia_generativa"
  },
  "language_info": {
   "codemirror_mode": {
    "name": "ipython",
    "version": 3
   },
   "file_extension": ".py",
   "mimetype": "text/x-python",
   "name": "python",
   "nbconvert_exporter": "python",
   "pygments_lexer": "ipython3",
   "version": "3.11.9"
  }
 },
 "nbformat": 4,
 "nbformat_minor": 5
}
